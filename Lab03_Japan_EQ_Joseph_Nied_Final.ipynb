{
 "cells": [
  {
   "cell_type": "code",
   "execution_count": 2,
   "metadata": {},
   "outputs": [],
   "source": [
    "#log into arcGIS PRO\n",
    "from arcgis.gis import GIS\n",
    "gis = GIS(\"pro\")\n"
   ]
  },
  {
   "cell_type": "code",
   "execution_count": 5,
   "metadata": {},
   "outputs": [],
   "source": [
    "#create variables to set up and upload the map\n",
    "csv_path = \"jdn8608_earthquakes.csv\"\n",
    "csv_properties = {'title':'JDN_8608_EQ_MAP_LAB03','description':'Map for lab 3 for RIT GIS 386', 'tags':'jdn_lab03_2019'}\n",
    "eq_csv_item = gis.content.add(item_properties=csv_properties, data=csv_path)"
   ]
  },
  {
   "cell_type": "code",
   "execution_count": 7,
   "metadata": {},
   "outputs": [
    {
     "data": {
      "text/html": [
       "<div class=\"item_container\" style=\"height: auto; overflow: hidden; border: 1px solid #cfcfcf; border-radius: 2px; background: #f6fafa; line-height: 1.21429em; padding: 10px;\">\n",
       "                    <div class=\"item_left\" style=\"width: 210px; float: left;\">\n",
       "                       <a href='https://ritarcgis.maps.arcgis.com//home/item.html?id=f53b92897f594b50ba43624f7ac73ec6' target='_blank'>\n",
       "                        <img src='http://static.arcgis.com/images/desktopapp.png' class=\"itemThumbnail\">\n",
       "                       </a>\n",
       "                    </div>\n",
       "\n",
       "                    <div class=\"item_right\"     style=\"float: none; width: auto; overflow: hidden;\">\n",
       "                        <a href='https://ritarcgis.maps.arcgis.com//home/item.html?id=f53b92897f594b50ba43624f7ac73ec6' target='_blank'><b>JDN_8608_EQ_MAP_LAB03</b>\n",
       "                        </a>\n",
       "                        <br/><img src='https://ritarcgis.maps.arcgis.com//home/js/jsapi/esri/css/images/item_type_icons/featureshosted16.png' style=\"vertical-align:middle;\">Feature Layer Collection by jdn8608@rit.edu_RITArcGIS\n",
       "                        <br/>Last Modified: October 03, 2019\n",
       "                        <br/>0 comments, 0 views\n",
       "                    </div>\n",
       "                </div>\n",
       "                "
      ],
      "text/plain": [
       "<Item title:\"JDN_8608_EQ_MAP_LAB03\" type:Feature Layer Collection owner:jdn8608@rit.edu_RITArcGIS>"
      ]
     },
     "execution_count": 7,
     "metadata": {},
     "output_type": "execute_result"
    }
   ],
   "source": [
    "#Publish the map\n",
    "eq_csv_item_layer_item = eq_csv_item.publish()\n",
    "eq_csv_item_layer_item"
   ]
  },
  {
   "cell_type": "code",
   "execution_count": 8,
   "metadata": {},
   "outputs": [
    {
     "data": {
      "application/vnd.jupyter.widget-view+json": {
       "model_id": "b20204c23e81459a90519e2981bd5265",
       "version_major": 2,
       "version_minor": 0
      },
      "text/plain": [
       "MapView(layout=Layout(height='400px', width='100%'), zoom=4.0)"
      ]
     },
     "metadata": {},
     "output_type": "display_data"
    }
   ],
   "source": [
    "#Create a variable map to just display japan\n",
    "japan_map = gis.map('Japan', zoomlevel=4)\n",
    "japan_map #display this map layer"
   ]
  },
  {
   "cell_type": "code",
   "execution_count": 9,
   "metadata": {},
   "outputs": [],
   "source": [
    "#add a layer to show our earthquake csv file data\n",
    "eq_names_lyr = eq_csv_item_layer_item.layers[0]\n",
    "japan_map.add_layer(eq_names_lyr)"
   ]
  },
  {
   "cell_type": "code",
   "execution_count": 10,
   "metadata": {},
   "outputs": [],
   "source": [
    "#Create a custom symbol that marks where the earthquakes are\n",
    "sym =  {\n",
    "    \"type\": \"esriSMS\",\n",
    "    \"style\": \"esriSMSCircle\",\n",
    "    \"color\": [80,253,231,255], #I choosed a teal/blue color\n",
    "    \"size\": 20,\n",
    "    \"angle\": 0,\n",
    "    \"xoffset\": 0,\n",
    "    \"yoffset\": 0,\n",
    "    \"outline\": \n",
    "\t{\n",
    "     \"color\": [255,255,255,255],#outline in white\n",
    "     \"width\": 1\n",
    "    }}\n",
    "#render these new symbols\n",
    "rend = {\"renderer\":\"SimpleRenderer\", \"symbol\":sym, \"field_name\": \"FEATURE_ID\"}\n",
    "japan_map.add_layer(eq_names_lyr, rend)"
   ]
  },
  {
   "cell_type": "code",
   "execution_count": 12,
   "metadata": {},
   "outputs": [
    {
     "data": {
      "text/html": [
       "<div>\n",
       "<style scoped>\n",
       "    .dataframe tbody tr th:only-of-type {\n",
       "        vertical-align: middle;\n",
       "    }\n",
       "\n",
       "    .dataframe tbody tr th {\n",
       "        vertical-align: top;\n",
       "    }\n",
       "\n",
       "    .dataframe thead th {\n",
       "        text-align: right;\n",
       "    }\n",
       "</style>\n",
       "<table border=\"1\" class=\"dataframe\">\n",
       "  <thead>\n",
       "    <tr style=\"text-align: right;\">\n",
       "      <th></th>\n",
       "      <th>ObjectId</th>\n",
       "      <th>SHAPE</th>\n",
       "      <th>depth</th>\n",
       "      <th>depthError</th>\n",
       "      <th>dmin</th>\n",
       "      <th>gap</th>\n",
       "      <th>horizontalError</th>\n",
       "      <th>id</th>\n",
       "      <th>latitude</th>\n",
       "      <th>locationSource</th>\n",
       "      <th>...</th>\n",
       "      <th>magSource</th>\n",
       "      <th>magType</th>\n",
       "      <th>net</th>\n",
       "      <th>nst</th>\n",
       "      <th>place</th>\n",
       "      <th>rms</th>\n",
       "      <th>status</th>\n",
       "      <th>time</th>\n",
       "      <th>type</th>\n",
       "      <th>updated</th>\n",
       "    </tr>\n",
       "  </thead>\n",
       "  <tbody>\n",
       "    <tr>\n",
       "      <th>0</th>\n",
       "      <td>1</td>\n",
       "      <td>{\"x\": -13669662.408155333, \"y\": 4696420.903484...</td>\n",
       "      <td>2.65</td>\n",
       "      <td>0.24</td>\n",
       "      <td>0.01047</td>\n",
       "      <td>33</td>\n",
       "      <td>0.15</td>\n",
       "      <td>nc73092551</td>\n",
       "      <td>38.8235</td>\n",
       "      <td>nc</td>\n",
       "      <td>...</td>\n",
       "      <td>nc</td>\n",
       "      <td>md</td>\n",
       "      <td>nc</td>\n",
       "      <td>39.0</td>\n",
       "      <td>6km NW of The Geysers, CA</td>\n",
       "      <td>0.05</td>\n",
       "      <td>reviewed</td>\n",
       "      <td>2018-10-02 11:58:15.750000000</td>\n",
       "      <td>earthquake</td>\n",
       "      <td>2018-10-03 00:41:04.186000109</td>\n",
       "    </tr>\n",
       "    <tr>\n",
       "      <th>1</th>\n",
       "      <td>2</td>\n",
       "      <td>{\"x\": 13371819.685527895, \"y\": -1172588.378832...</td>\n",
       "      <td>20.71</td>\n",
       "      <td>5.00</td>\n",
       "      <td>2.77400</td>\n",
       "      <td>37</td>\n",
       "      <td>6.90</td>\n",
       "      <td>us1000h5h5</td>\n",
       "      <td>-10.4747</td>\n",
       "      <td>us</td>\n",
       "      <td>...</td>\n",
       "      <td>us</td>\n",
       "      <td>mww</td>\n",
       "      <td>us</td>\n",
       "      <td>NaN</td>\n",
       "      <td>33km SSW of Nggongi Satu, Indonesia</td>\n",
       "      <td>1.22</td>\n",
       "      <td>reviewed</td>\n",
       "      <td>2018-10-02 04:49:31.470000029</td>\n",
       "      <td>earthquake</td>\n",
       "      <td>2018-10-03 21:02:50.039999962</td>\n",
       "    </tr>\n",
       "    <tr>\n",
       "      <th>2</th>\n",
       "      <td>3</td>\n",
       "      <td>{\"x\": -13560124.029214751, \"y\": 6205324.718452...</td>\n",
       "      <td>-0.99</td>\n",
       "      <td>3.17</td>\n",
       "      <td>0.20400</td>\n",
       "      <td>107</td>\n",
       "      <td>1.59</td>\n",
       "      <td>uw61425222</td>\n",
       "      <td>48.5885</td>\n",
       "      <td>uw</td>\n",
       "      <td>...</td>\n",
       "      <td>uw</td>\n",
       "      <td>ml</td>\n",
       "      <td>uw</td>\n",
       "      <td>10.0</td>\n",
       "      <td>19km NW of Rockport, Washington</td>\n",
       "      <td>0.32</td>\n",
       "      <td>reviewed</td>\n",
       "      <td>2018-10-02 11:49:46.710000038</td>\n",
       "      <td>earthquake</td>\n",
       "      <td>2018-10-02 16:59:35.470000029</td>\n",
       "    </tr>\n",
       "    <tr>\n",
       "      <th>3</th>\n",
       "      <td>5</td>\n",
       "      <td>{\"x\": 18683996.918131985, \"y\": -2013146.658427...</td>\n",
       "      <td>10.00</td>\n",
       "      <td>1.90</td>\n",
       "      <td>4.33800</td>\n",
       "      <td>71</td>\n",
       "      <td>3.30</td>\n",
       "      <td>us1000h5l2</td>\n",
       "      <td>-17.7914</td>\n",
       "      <td>us</td>\n",
       "      <td>...</td>\n",
       "      <td>us</td>\n",
       "      <td>mb</td>\n",
       "      <td>us</td>\n",
       "      <td>NaN</td>\n",
       "      <td>51km W of Port-Vila, Vanuatu</td>\n",
       "      <td>0.87</td>\n",
       "      <td>reviewed</td>\n",
       "      <td>2018-10-02 11:35:41.210000038</td>\n",
       "      <td>earthquake</td>\n",
       "      <td>2018-10-03 02:09:15.273000002</td>\n",
       "    </tr>\n",
       "    <tr>\n",
       "      <th>4</th>\n",
       "      <td>7</td>\n",
       "      <td>{\"x\": -7374426.459294883, \"y\": 2026993.4885126...</td>\n",
       "      <td>11.00</td>\n",
       "      <td>0.70</td>\n",
       "      <td>0.14950</td>\n",
       "      <td>208</td>\n",
       "      <td>0.80</td>\n",
       "      <td>pr2018275009</td>\n",
       "      <td>17.9098</td>\n",
       "      <td>pr</td>\n",
       "      <td>...</td>\n",
       "      <td>pr</td>\n",
       "      <td>md</td>\n",
       "      <td>pr</td>\n",
       "      <td>12.0</td>\n",
       "      <td>5km SSW of Central Aguirre, Puerto Rico</td>\n",
       "      <td>0.22</td>\n",
       "      <td>reviewed</td>\n",
       "      <td>2018-10-02 11:23:46.339999914</td>\n",
       "      <td>earthquake</td>\n",
       "      <td>2018-10-02 16:36:33.099999905</td>\n",
       "    </tr>\n",
       "  </tbody>\n",
       "</table>\n",
       "<p>5 rows × 24 columns</p>\n",
       "</div>"
      ],
      "text/plain": [
       "   ObjectId                                              SHAPE  depth  \\\n",
       "0         1  {\"x\": -13669662.408155333, \"y\": 4696420.903484...   2.65   \n",
       "1         2  {\"x\": 13371819.685527895, \"y\": -1172588.378832...  20.71   \n",
       "2         3  {\"x\": -13560124.029214751, \"y\": 6205324.718452...  -0.99   \n",
       "3         5  {\"x\": 18683996.918131985, \"y\": -2013146.658427...  10.00   \n",
       "4         7  {\"x\": -7374426.459294883, \"y\": 2026993.4885126...  11.00   \n",
       "\n",
       "   depthError     dmin  gap  horizontalError            id  latitude  \\\n",
       "0        0.24  0.01047   33             0.15    nc73092551   38.8235   \n",
       "1        5.00  2.77400   37             6.90    us1000h5h5  -10.4747   \n",
       "2        3.17  0.20400  107             1.59    uw61425222   48.5885   \n",
       "3        1.90  4.33800   71             3.30    us1000h5l2  -17.7914   \n",
       "4        0.70  0.14950  208             0.80  pr2018275009   17.9098   \n",
       "\n",
       "  locationSource              ...               magSource  magType  net   nst  \\\n",
       "0             nc              ...                      nc       md   nc  39.0   \n",
       "1             us              ...                      us      mww   us   NaN   \n",
       "2             uw              ...                      uw       ml   uw  10.0   \n",
       "3             us              ...                      us       mb   us   NaN   \n",
       "4             pr              ...                      pr       md   pr  12.0   \n",
       "\n",
       "                                     place   rms    status  \\\n",
       "0                6km NW of The Geysers, CA  0.05  reviewed   \n",
       "1      33km SSW of Nggongi Satu, Indonesia  1.22  reviewed   \n",
       "2          19km NW of Rockport, Washington  0.32  reviewed   \n",
       "3             51km W of Port-Vila, Vanuatu  0.87  reviewed   \n",
       "4  5km SSW of Central Aguirre, Puerto Rico  0.22  reviewed   \n",
       "\n",
       "                           time        type                       updated  \n",
       "0 2018-10-02 11:58:15.750000000  earthquake 2018-10-03 00:41:04.186000109  \n",
       "1 2018-10-02 04:49:31.470000029  earthquake 2018-10-03 21:02:50.039999962  \n",
       "2 2018-10-02 11:49:46.710000038  earthquake 2018-10-02 16:59:35.470000029  \n",
       "3 2018-10-02 11:35:41.210000038  earthquake 2018-10-03 02:09:15.273000002  \n",
       "4 2018-10-02 11:23:46.339999914  earthquake 2018-10-02 16:36:33.099999905  \n",
       "\n",
       "[5 rows x 24 columns]"
      ]
     },
     "execution_count": 12,
     "metadata": {},
     "output_type": "execute_result"
    }
   ],
   "source": [
    "#make a table where mag >1 and display the first 5 values with 'df.head'\n",
    "df = eq_names_lyr.query(where=\"mag > 1\").sdf\n",
    "#only show first five records\n",
    "df.head()"
   ]
  },
  {
   "cell_type": "code",
   "execution_count": 13,
   "metadata": {},
   "outputs": [
    {
     "data": {
      "text/plain": [
       "True"
      ]
     },
     "execution_count": 13,
     "metadata": {},
     "output_type": "execute_result"
    }
   ],
   "source": [
    "#Plots these points onto the japan map\n",
    "df.spatial.plot(map_widget = japan_map)"
   ]
  },
  {
   "cell_type": "code",
   "execution_count": 15,
   "metadata": {},
   "outputs": [
    {
     "data": {
      "text/plain": [
       "True"
      ]
     },
     "execution_count": 15,
     "metadata": {},
     "output_type": "execute_result"
    }
   ],
   "source": [
    "#remove previous layers\n",
    "japan_map.remove_layers()\n"
   ]
  },
  {
   "cell_type": "code",
   "execution_count": 16,
   "metadata": {},
   "outputs": [
    {
     "data": {
      "text/plain": [
       "True"
      ]
     },
     "execution_count": 16,
     "metadata": {},
     "output_type": "execute_result"
    }
   ],
   "source": [
    "#creates a map widget with specified vars from the lab pdf\n",
    "df.spatial.plot(map_widget=japan_map,\n",
    "               renderer_type='c', #class breaks renderer\n",
    "               method='esriClassifyNaturalBreaks', #classification algorithm\n",
    "               class_count=10,\n",
    "                col='mag', #coloum to use\n",
    "                cmap='prism', #color map to pick colors for each of the 5 classes\n",
    "                alpha=0.7 #specify opacity\n",
    "               )"
   ]
  },
  {
   "cell_type": "code",
   "execution_count": 18,
   "metadata": {},
   "outputs": [
    {
     "name": "stdout",
     "output_type": "stream",
     "text": [
      "10\n"
     ]
    }
   ],
   "source": [
    "#Creates data for the histo grab\n",
    "class_breaks = japan_map.layers[0].layer.layerDefinition.drawingInfo.renderer.classBreakInfos\n",
    "print(len(class_breaks))"
   ]
  },
  {
   "cell_type": "code",
   "execution_count": 19,
   "metadata": {},
   "outputs": [
    {
     "name": "stdout",
     "output_type": "stream",
     "text": [
      "1.01 - 1.7755555555555556\n",
      "1.7755555555555556 - 2.5411111111111113\n",
      "2.5411111111111113 - 3.3066666666666666\n",
      "3.3066666666666666 - 4.072222222222223\n",
      "4.072222222222223 - 4.837777777777778\n",
      "4.837777777777778 - 5.6033333333333335\n",
      "5.6033333333333335 - 6.36888888888889\n",
      "6.36888888888889 - 7.134444444444445\n",
      "7.134444444444445 - 7.9\n",
      "7.9 - 7.9\n"
     ]
    }
   ],
   "source": [
    "#Properly sets up the ramge of the scale of the histogram\n",
    "cbs_list = []\n",
    "cmap_list = []\n",
    "for cb in class_breaks:\n",
    "    print(cb.description)  # print the class break labels\n",
    "    cbs_list.append(cb.classMaxValue)\n",
    "    cmap_list.append([x/255.0 for x in cb.symbol.color])"
   ]
  },
  {
   "cell_type": "code",
   "execution_count": 22,
   "metadata": {},
   "outputs": [
    {
     "data": {
      "text/plain": [
       "Text(0.5,1,'Histogram of Mag column')"
      ]
     },
     "execution_count": 22,
     "metadata": {},
     "output_type": "execute_result"
    },
    {
     "data": {
      "image/png": "[encoded data removed]",
      "text/plain": [
       "<Figure size 432x288 with 1 Axes>"
      ]
     },
     "metadata": {
      "needs_background": "light"
     },
     "output_type": "display_data"
    }
   ],
   "source": [
    "#Creates histogram and prints it\n",
    "import matplotlib.pyplot as plt\n",
    "# build a histogram for the same class breaks\n",
    "n, bins, patches = plt.hist(df['mag'], bins=cbs_list)\n",
    "\n",
    "# apply the same color for each class to match the map\n",
    "idx = 0\n",
    "for c, p in zip(bins, patches):\n",
    "    plt.setp(p, 'facecolor', cmap_list[idx])\n",
    "    idx+=1\n",
    "\n",
    "plt.title('Histogram of Mag column')"
   ]
  },
  {
   "cell_type": "code",
   "execution_count": null,
   "metadata": {},
   "outputs": [],
   "source": []
  }
 ],
 "metadata": {
  "kernelspec": {
   "display_name": "Python 3",
   "language": "python",
   "name": "python3"
  },
  "language_info": {
   "codemirror_mode": {
    "name": "ipython",
    "version": 3
   },
   "file_extension": ".py",
   "mimetype": "text/x-python",
   "name": "python",
   "nbconvert_exporter": "python",
   "pygments_lexer": "ipython3",
   "version": "3.6.6"
  }
 },
 "nbformat": 4,
 "nbformat_minor": 2
}
